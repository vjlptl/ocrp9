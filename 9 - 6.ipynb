{
 "cells": [
  {
   "cell_type": "code",
   "execution_count": 1,
   "id": "formal-wallace",
   "metadata": {},
   "outputs": [],
   "source": [
    "import numpy as np\n",
    "import pandas as pd\n",
    "import scipy\n",
    "import scipy.sparse as sparse\n",
    "from scipy.sparse import csr_matrix\n",
    "\n",
    "import os\n",
    "import os\n",
    "import pickle\n",
    "import math\n",
    "import random\n",
    "import matplotlib.pyplot as plt\n",
    "from sklearn import metrics\n",
    "from sklearn.metrics.pairwise import cosine_similarity\n",
    "from sklearn.model_selection import train_test_split\n",
    "from sklearn.preprocessing import MinMaxScaler"
   ]
  },
  {
   "cell_type": "markdown",
   "id": "hearing-booth",
   "metadata": {},
   "source": [
    "## Import data"
   ]
  },
  {
   "cell_type": "code",
   "execution_count": 2,
   "id": "tutorial-robert",
   "metadata": {},
   "outputs": [],
   "source": [
    "INPUT_DIR = './input'\n",
    "CLICKS_DIR = './input/clicks'"
   ]
  },
  {
   "cell_type": "code",
   "execution_count": 3,
   "id": "patient-index",
   "metadata": {},
   "outputs": [],
   "source": [
    "df_clicks = pd.DataFrame().append([pd.read_csv(CLICKS_DIR + \"\\\\\" + file, sep=\",\") for file in os.listdir(CLICKS_DIR)],\n",
    "                                      ignore_index=True)"
   ]
  },
  {
   "cell_type": "code",
   "execution_count": 4,
   "id": "noble-natural",
   "metadata": {},
   "outputs": [
    {
     "data": {
      "text/html": [
       "<div>\n",
       "<style scoped>\n",
       "    .dataframe tbody tr th:only-of-type {\n",
       "        vertical-align: middle;\n",
       "    }\n",
       "\n",
       "    .dataframe tbody tr th {\n",
       "        vertical-align: top;\n",
       "    }\n",
       "\n",
       "    .dataframe thead th {\n",
       "        text-align: right;\n",
       "    }\n",
       "</style>\n",
       "<table border=\"1\" class=\"dataframe\">\n",
       "  <thead>\n",
       "    <tr style=\"text-align: right;\">\n",
       "      <th></th>\n",
       "      <th>user_id</th>\n",
       "      <th>session_id</th>\n",
       "      <th>session_start</th>\n",
       "      <th>session_size</th>\n",
       "      <th>click_article_id</th>\n",
       "      <th>click_timestamp</th>\n",
       "      <th>click_environment</th>\n",
       "      <th>click_deviceGroup</th>\n",
       "      <th>click_os</th>\n",
       "      <th>click_country</th>\n",
       "      <th>click_region</th>\n",
       "      <th>click_referrer_type</th>\n",
       "    </tr>\n",
       "  </thead>\n",
       "  <tbody>\n",
       "    <tr>\n",
       "      <th>0</th>\n",
       "      <td>0</td>\n",
       "      <td>1506825423271737</td>\n",
       "      <td>1506825423000</td>\n",
       "      <td>2</td>\n",
       "      <td>157541</td>\n",
       "      <td>1506826828020</td>\n",
       "      <td>4</td>\n",
       "      <td>3</td>\n",
       "      <td>20</td>\n",
       "      <td>1</td>\n",
       "      <td>20</td>\n",
       "      <td>2</td>\n",
       "    </tr>\n",
       "    <tr>\n",
       "      <th>1</th>\n",
       "      <td>0</td>\n",
       "      <td>1506825423271737</td>\n",
       "      <td>1506825423000</td>\n",
       "      <td>2</td>\n",
       "      <td>68866</td>\n",
       "      <td>1506826858020</td>\n",
       "      <td>4</td>\n",
       "      <td>3</td>\n",
       "      <td>20</td>\n",
       "      <td>1</td>\n",
       "      <td>20</td>\n",
       "      <td>2</td>\n",
       "    </tr>\n",
       "    <tr>\n",
       "      <th>2</th>\n",
       "      <td>1</td>\n",
       "      <td>1506825426267738</td>\n",
       "      <td>1506825426000</td>\n",
       "      <td>2</td>\n",
       "      <td>235840</td>\n",
       "      <td>1506827017951</td>\n",
       "      <td>4</td>\n",
       "      <td>1</td>\n",
       "      <td>17</td>\n",
       "      <td>1</td>\n",
       "      <td>16</td>\n",
       "      <td>2</td>\n",
       "    </tr>\n",
       "    <tr>\n",
       "      <th>3</th>\n",
       "      <td>1</td>\n",
       "      <td>1506825426267738</td>\n",
       "      <td>1506825426000</td>\n",
       "      <td>2</td>\n",
       "      <td>96663</td>\n",
       "      <td>1506827047951</td>\n",
       "      <td>4</td>\n",
       "      <td>1</td>\n",
       "      <td>17</td>\n",
       "      <td>1</td>\n",
       "      <td>16</td>\n",
       "      <td>2</td>\n",
       "    </tr>\n",
       "    <tr>\n",
       "      <th>4</th>\n",
       "      <td>2</td>\n",
       "      <td>1506825435299739</td>\n",
       "      <td>1506825435000</td>\n",
       "      <td>2</td>\n",
       "      <td>119592</td>\n",
       "      <td>1506827090575</td>\n",
       "      <td>4</td>\n",
       "      <td>1</td>\n",
       "      <td>17</td>\n",
       "      <td>1</td>\n",
       "      <td>24</td>\n",
       "      <td>2</td>\n",
       "    </tr>\n",
       "  </tbody>\n",
       "</table>\n",
       "</div>"
      ],
      "text/plain": [
       "  user_id        session_id  session_start session_size click_article_id  \\\n",
       "0       0  1506825423271737  1506825423000            2           157541   \n",
       "1       0  1506825423271737  1506825423000            2            68866   \n",
       "2       1  1506825426267738  1506825426000            2           235840   \n",
       "3       1  1506825426267738  1506825426000            2            96663   \n",
       "4       2  1506825435299739  1506825435000            2           119592   \n",
       "\n",
       "  click_timestamp click_environment click_deviceGroup click_os click_country  \\\n",
       "0   1506826828020                 4                 3       20             1   \n",
       "1   1506826858020                 4                 3       20             1   \n",
       "2   1506827017951                 4                 1       17             1   \n",
       "3   1506827047951                 4                 1       17             1   \n",
       "4   1506827090575                 4                 1       17             1   \n",
       "\n",
       "  click_region click_referrer_type  \n",
       "0           20                   2  \n",
       "1           20                   2  \n",
       "2           16                   2  \n",
       "3           16                   2  \n",
       "4           24                   2  "
      ]
     },
     "execution_count": 4,
     "metadata": {},
     "output_type": "execute_result"
    }
   ],
   "source": [
    "df_clicks.head(5)"
   ]
  },
  {
   "cell_type": "code",
   "execution_count": 5,
   "id": "physical-differential",
   "metadata": {},
   "outputs": [],
   "source": [
    "items_df = df_articles = pd.read_csv(INPUT_DIR + \"\\\\\" +\"articles_metadata.csv\", sep=\",\")"
   ]
  },
  {
   "cell_type": "code",
   "execution_count": 6,
   "id": "egyptian-winner",
   "metadata": {},
   "outputs": [
    {
     "data": {
      "text/html": [
       "<div>\n",
       "<style scoped>\n",
       "    .dataframe tbody tr th:only-of-type {\n",
       "        vertical-align: middle;\n",
       "    }\n",
       "\n",
       "    .dataframe tbody tr th {\n",
       "        vertical-align: top;\n",
       "    }\n",
       "\n",
       "    .dataframe thead th {\n",
       "        text-align: right;\n",
       "    }\n",
       "</style>\n",
       "<table border=\"1\" class=\"dataframe\">\n",
       "  <thead>\n",
       "    <tr style=\"text-align: right;\">\n",
       "      <th></th>\n",
       "      <th>article_id</th>\n",
       "      <th>category_id</th>\n",
       "      <th>created_at_ts</th>\n",
       "      <th>publisher_id</th>\n",
       "      <th>words_count</th>\n",
       "    </tr>\n",
       "  </thead>\n",
       "  <tbody>\n",
       "    <tr>\n",
       "      <th>0</th>\n",
       "      <td>0</td>\n",
       "      <td>0</td>\n",
       "      <td>1513144419000</td>\n",
       "      <td>0</td>\n",
       "      <td>168</td>\n",
       "    </tr>\n",
       "    <tr>\n",
       "      <th>1</th>\n",
       "      <td>1</td>\n",
       "      <td>1</td>\n",
       "      <td>1405341936000</td>\n",
       "      <td>0</td>\n",
       "      <td>189</td>\n",
       "    </tr>\n",
       "    <tr>\n",
       "      <th>2</th>\n",
       "      <td>2</td>\n",
       "      <td>1</td>\n",
       "      <td>1408667706000</td>\n",
       "      <td>0</td>\n",
       "      <td>250</td>\n",
       "    </tr>\n",
       "    <tr>\n",
       "      <th>3</th>\n",
       "      <td>3</td>\n",
       "      <td>1</td>\n",
       "      <td>1408468313000</td>\n",
       "      <td>0</td>\n",
       "      <td>230</td>\n",
       "    </tr>\n",
       "    <tr>\n",
       "      <th>4</th>\n",
       "      <td>4</td>\n",
       "      <td>1</td>\n",
       "      <td>1407071171000</td>\n",
       "      <td>0</td>\n",
       "      <td>162</td>\n",
       "    </tr>\n",
       "  </tbody>\n",
       "</table>\n",
       "</div>"
      ],
      "text/plain": [
       "   article_id  category_id  created_at_ts  publisher_id  words_count\n",
       "0           0            0  1513144419000             0          168\n",
       "1           1            1  1405341936000             0          189\n",
       "2           2            1  1408667706000             0          250\n",
       "3           3            1  1408468313000             0          230\n",
       "4           4            1  1407071171000             0          162"
      ]
     },
     "execution_count": 6,
     "metadata": {},
     "output_type": "execute_result"
    }
   ],
   "source": [
    "items_df.head(5)"
   ]
  },
  {
   "cell_type": "code",
   "execution_count": 7,
   "id": "gentle-pierce",
   "metadata": {},
   "outputs": [],
   "source": [
    "embedding = pickle.load(open('./input/articles_embeddings.pickle', \"rb\"))\n",
    "df_embeddings = pd.DataFrame(embedding)"
   ]
  },
  {
   "cell_type": "code",
   "execution_count": 8,
   "id": "intense-reliance",
   "metadata": {},
   "outputs": [
    {
     "data": {
      "text/html": [
       "<div>\n",
       "<style scoped>\n",
       "    .dataframe tbody tr th:only-of-type {\n",
       "        vertical-align: middle;\n",
       "    }\n",
       "\n",
       "    .dataframe tbody tr th {\n",
       "        vertical-align: top;\n",
       "    }\n",
       "\n",
       "    .dataframe thead th {\n",
       "        text-align: right;\n",
       "    }\n",
       "</style>\n",
       "<table border=\"1\" class=\"dataframe\">\n",
       "  <thead>\n",
       "    <tr style=\"text-align: right;\">\n",
       "      <th></th>\n",
       "      <th>0</th>\n",
       "      <th>1</th>\n",
       "      <th>2</th>\n",
       "      <th>3</th>\n",
       "      <th>4</th>\n",
       "      <th>5</th>\n",
       "      <th>6</th>\n",
       "      <th>7</th>\n",
       "      <th>8</th>\n",
       "      <th>9</th>\n",
       "      <th>...</th>\n",
       "      <th>240</th>\n",
       "      <th>241</th>\n",
       "      <th>242</th>\n",
       "      <th>243</th>\n",
       "      <th>244</th>\n",
       "      <th>245</th>\n",
       "      <th>246</th>\n",
       "      <th>247</th>\n",
       "      <th>248</th>\n",
       "      <th>249</th>\n",
       "    </tr>\n",
       "  </thead>\n",
       "  <tbody>\n",
       "    <tr>\n",
       "      <th>0</th>\n",
       "      <td>-0.161183</td>\n",
       "      <td>-0.957233</td>\n",
       "      <td>-0.137944</td>\n",
       "      <td>0.050855</td>\n",
       "      <td>0.830055</td>\n",
       "      <td>0.901365</td>\n",
       "      <td>-0.335148</td>\n",
       "      <td>-0.559561</td>\n",
       "      <td>-0.500603</td>\n",
       "      <td>0.165183</td>\n",
       "      <td>...</td>\n",
       "      <td>0.321248</td>\n",
       "      <td>0.313999</td>\n",
       "      <td>0.636412</td>\n",
       "      <td>0.169179</td>\n",
       "      <td>0.540524</td>\n",
       "      <td>-0.813182</td>\n",
       "      <td>0.286870</td>\n",
       "      <td>-0.231686</td>\n",
       "      <td>0.597416</td>\n",
       "      <td>0.409623</td>\n",
       "    </tr>\n",
       "    <tr>\n",
       "      <th>1</th>\n",
       "      <td>-0.523216</td>\n",
       "      <td>-0.974058</td>\n",
       "      <td>0.738608</td>\n",
       "      <td>0.155234</td>\n",
       "      <td>0.626294</td>\n",
       "      <td>0.485297</td>\n",
       "      <td>-0.715657</td>\n",
       "      <td>-0.897996</td>\n",
       "      <td>-0.359747</td>\n",
       "      <td>0.398246</td>\n",
       "      <td>...</td>\n",
       "      <td>-0.487843</td>\n",
       "      <td>0.823124</td>\n",
       "      <td>0.412688</td>\n",
       "      <td>-0.338654</td>\n",
       "      <td>0.320787</td>\n",
       "      <td>0.588643</td>\n",
       "      <td>-0.594137</td>\n",
       "      <td>0.182828</td>\n",
       "      <td>0.397090</td>\n",
       "      <td>-0.834364</td>\n",
       "    </tr>\n",
       "    <tr>\n",
       "      <th>2</th>\n",
       "      <td>-0.619619</td>\n",
       "      <td>-0.972960</td>\n",
       "      <td>-0.207360</td>\n",
       "      <td>-0.128861</td>\n",
       "      <td>0.044748</td>\n",
       "      <td>-0.387535</td>\n",
       "      <td>-0.730477</td>\n",
       "      <td>-0.066126</td>\n",
       "      <td>-0.754899</td>\n",
       "      <td>-0.242004</td>\n",
       "      <td>...</td>\n",
       "      <td>0.454756</td>\n",
       "      <td>0.473184</td>\n",
       "      <td>0.377866</td>\n",
       "      <td>-0.863887</td>\n",
       "      <td>-0.383365</td>\n",
       "      <td>0.137721</td>\n",
       "      <td>-0.810877</td>\n",
       "      <td>-0.447580</td>\n",
       "      <td>0.805932</td>\n",
       "      <td>-0.285284</td>\n",
       "    </tr>\n",
       "    <tr>\n",
       "      <th>3</th>\n",
       "      <td>-0.740843</td>\n",
       "      <td>-0.975749</td>\n",
       "      <td>0.391698</td>\n",
       "      <td>0.641738</td>\n",
       "      <td>-0.268645</td>\n",
       "      <td>0.191745</td>\n",
       "      <td>-0.825593</td>\n",
       "      <td>-0.710591</td>\n",
       "      <td>-0.040099</td>\n",
       "      <td>-0.110514</td>\n",
       "      <td>...</td>\n",
       "      <td>0.271535</td>\n",
       "      <td>0.036040</td>\n",
       "      <td>0.480029</td>\n",
       "      <td>-0.763173</td>\n",
       "      <td>0.022627</td>\n",
       "      <td>0.565165</td>\n",
       "      <td>-0.910286</td>\n",
       "      <td>-0.537838</td>\n",
       "      <td>0.243541</td>\n",
       "      <td>-0.885329</td>\n",
       "    </tr>\n",
       "    <tr>\n",
       "      <th>4</th>\n",
       "      <td>-0.279052</td>\n",
       "      <td>-0.972315</td>\n",
       "      <td>0.685374</td>\n",
       "      <td>0.113056</td>\n",
       "      <td>0.238315</td>\n",
       "      <td>0.271913</td>\n",
       "      <td>-0.568816</td>\n",
       "      <td>0.341194</td>\n",
       "      <td>-0.600554</td>\n",
       "      <td>-0.125644</td>\n",
       "      <td>...</td>\n",
       "      <td>0.238286</td>\n",
       "      <td>0.809268</td>\n",
       "      <td>0.427521</td>\n",
       "      <td>-0.615932</td>\n",
       "      <td>-0.503697</td>\n",
       "      <td>0.614450</td>\n",
       "      <td>-0.917760</td>\n",
       "      <td>-0.424061</td>\n",
       "      <td>0.185484</td>\n",
       "      <td>-0.580292</td>\n",
       "    </tr>\n",
       "  </tbody>\n",
       "</table>\n",
       "<p>5 rows × 250 columns</p>\n",
       "</div>"
      ],
      "text/plain": [
       "        0         1         2         3         4         5         6    \\\n",
       "0 -0.161183 -0.957233 -0.137944  0.050855  0.830055  0.901365 -0.335148   \n",
       "1 -0.523216 -0.974058  0.738608  0.155234  0.626294  0.485297 -0.715657   \n",
       "2 -0.619619 -0.972960 -0.207360 -0.128861  0.044748 -0.387535 -0.730477   \n",
       "3 -0.740843 -0.975749  0.391698  0.641738 -0.268645  0.191745 -0.825593   \n",
       "4 -0.279052 -0.972315  0.685374  0.113056  0.238315  0.271913 -0.568816   \n",
       "\n",
       "        7         8         9    ...       240       241       242       243  \\\n",
       "0 -0.559561 -0.500603  0.165183  ...  0.321248  0.313999  0.636412  0.169179   \n",
       "1 -0.897996 -0.359747  0.398246  ... -0.487843  0.823124  0.412688 -0.338654   \n",
       "2 -0.066126 -0.754899 -0.242004  ...  0.454756  0.473184  0.377866 -0.863887   \n",
       "3 -0.710591 -0.040099 -0.110514  ...  0.271535  0.036040  0.480029 -0.763173   \n",
       "4  0.341194 -0.600554 -0.125644  ...  0.238286  0.809268  0.427521 -0.615932   \n",
       "\n",
       "        244       245       246       247       248       249  \n",
       "0  0.540524 -0.813182  0.286870 -0.231686  0.597416  0.409623  \n",
       "1  0.320787  0.588643 -0.594137  0.182828  0.397090 -0.834364  \n",
       "2 -0.383365  0.137721 -0.810877 -0.447580  0.805932 -0.285284  \n",
       "3  0.022627  0.565165 -0.910286 -0.537838  0.243541 -0.885329  \n",
       "4 -0.503697  0.614450 -0.917760 -0.424061  0.185484 -0.580292  \n",
       "\n",
       "[5 rows x 250 columns]"
      ]
     },
     "execution_count": 8,
     "metadata": {},
     "output_type": "execute_result"
    }
   ],
   "source": [
    "df_embeddings.head(5)"
   ]
  },
  {
   "cell_type": "markdown",
   "id": "improving-blind",
   "metadata": {},
   "source": [
    "---"
   ]
  },
  {
   "cell_type": "code",
   "execution_count": 9,
   "id": "sporting-surge",
   "metadata": {},
   "outputs": [
    {
     "data": {
      "text/plain": [
       "(2988181, 12)"
      ]
     },
     "execution_count": 9,
     "metadata": {},
     "output_type": "execute_result"
    }
   ],
   "source": [
    "df_clicks.shape"
   ]
  },
  {
   "cell_type": "code",
   "execution_count": 10,
   "id": "numerical-virtue",
   "metadata": {},
   "outputs": [
    {
     "name": "stdout",
     "output_type": "stream",
     "text": [
      "*******************************************************\n",
      "df_clicks shape : (2988181, 12)\n",
      "Number of unique users: 322897\n",
      "Number of unique articles: 46033\n",
      "*******************************************************\n",
      "items_df shape : (364047, 5)\n",
      "Number of unique categories: 461\n",
      "Number of unique publishers: 1\n",
      "Max word count: 6690\n",
      "*******************************************************\n",
      "embeddings shape shape : (364047, 250)\n"
     ]
    }
   ],
   "source": [
    "print(\"*******************************************************\")\n",
    "print(\"df_clicks shape :\", df_clicks.shape)\n",
    "print(\"Number of unique users:\", df_clicks[\"user_id\"].nunique())\n",
    "print(\"Number of unique articles:\", df_clicks[\"click_article_id\"].nunique())\n",
    "print(\"*******************************************************\")\n",
    "print(\"items_df shape :\", items_df.shape)\n",
    "print(\"Number of unique categories:\", items_df[\"category_id\"].nunique())\n",
    "print(\"Number of unique publishers:\", items_df[\"publisher_id\"].nunique())\n",
    "print(\"Max word count:\", items_df[\"words_count\"].max())\n",
    "print(\"*******************************************************\")\n",
    "print(\"embeddings shape shape :\", embedding.shape)"
   ]
  },
  {
   "cell_type": "markdown",
   "id": "humanitarian-stomach",
   "metadata": {},
   "source": [
    "## Item based approach (IBA)"
   ]
  },
  {
   "cell_type": "markdown",
   "id": "sensitive-threshold",
   "metadata": {},
   "source": [
    "### Prepare data"
   ]
  },
  {
   "cell_type": "code",
   "execution_count": 11,
   "id": "personal-pharmaceutical",
   "metadata": {},
   "outputs": [],
   "source": [
    "cb_df = df_clicks.copy()\n",
    "cb_df.rename(columns = {\"user_id\": \"user\", \"click_article_id\": \"item\"}, inplace = True)\n",
    "cb_df[\"click_counts\"] = 1"
   ]
  },
  {
   "cell_type": "code",
   "execution_count": 12,
   "id": "biblical-organizer",
   "metadata": {},
   "outputs": [],
   "source": [
    "def smooth_user_preference(x):\n",
    "    \"\"\"\n",
    "    Smooth click counts :\n",
    "    Input :\n",
    "        - x (int) : number of clicks on an article for a single user\n",
    "    Output :\n",
    "        - (float) : smoothed number of clicks\n",
    "    \"\"\"\n",
    "\n",
    "    return math.log(1+x, 2)"
   ]
  },
  {
   "cell_type": "code",
   "execution_count": 13,
   "id": "capable-garlic",
   "metadata": {},
   "outputs": [],
   "source": [
    "interactions_full = cb_df.groupby([\"user\", \"item\"])[\"click_counts\"].sum().apply(smooth_user_preference).reset_index()"
   ]
  },
  {
   "cell_type": "code",
   "execution_count": 14,
   "id": "official-leather",
   "metadata": {},
   "outputs": [
    {
     "data": {
      "text/html": [
       "<div>\n",
       "<style scoped>\n",
       "    .dataframe tbody tr th:only-of-type {\n",
       "        vertical-align: middle;\n",
       "    }\n",
       "\n",
       "    .dataframe tbody tr th {\n",
       "        vertical-align: top;\n",
       "    }\n",
       "\n",
       "    .dataframe thead th {\n",
       "        text-align: right;\n",
       "    }\n",
       "</style>\n",
       "<table border=\"1\" class=\"dataframe\">\n",
       "  <thead>\n",
       "    <tr style=\"text-align: right;\">\n",
       "      <th></th>\n",
       "      <th>user</th>\n",
       "      <th>item</th>\n",
       "      <th>click_counts</th>\n",
       "    </tr>\n",
       "  </thead>\n",
       "  <tbody>\n",
       "    <tr>\n",
       "      <th>0</th>\n",
       "      <td>0</td>\n",
       "      <td>68866</td>\n",
       "      <td>1.0</td>\n",
       "    </tr>\n",
       "    <tr>\n",
       "      <th>1</th>\n",
       "      <td>0</td>\n",
       "      <td>87205</td>\n",
       "      <td>1.0</td>\n",
       "    </tr>\n",
       "    <tr>\n",
       "      <th>2</th>\n",
       "      <td>0</td>\n",
       "      <td>87224</td>\n",
       "      <td>1.0</td>\n",
       "    </tr>\n",
       "    <tr>\n",
       "      <th>3</th>\n",
       "      <td>0</td>\n",
       "      <td>96755</td>\n",
       "      <td>1.0</td>\n",
       "    </tr>\n",
       "    <tr>\n",
       "      <th>4</th>\n",
       "      <td>0</td>\n",
       "      <td>157541</td>\n",
       "      <td>1.0</td>\n",
       "    </tr>\n",
       "    <tr>\n",
       "      <th>...</th>\n",
       "      <td>...</td>\n",
       "      <td>...</td>\n",
       "      <td>...</td>\n",
       "    </tr>\n",
       "    <tr>\n",
       "      <th>2950705</th>\n",
       "      <td>322894</td>\n",
       "      <td>168401</td>\n",
       "      <td>1.0</td>\n",
       "    </tr>\n",
       "    <tr>\n",
       "      <th>2950706</th>\n",
       "      <td>322895</td>\n",
       "      <td>63746</td>\n",
       "      <td>1.0</td>\n",
       "    </tr>\n",
       "    <tr>\n",
       "      <th>2950707</th>\n",
       "      <td>322895</td>\n",
       "      <td>289197</td>\n",
       "      <td>1.0</td>\n",
       "    </tr>\n",
       "    <tr>\n",
       "      <th>2950708</th>\n",
       "      <td>322896</td>\n",
       "      <td>30760</td>\n",
       "      <td>1.0</td>\n",
       "    </tr>\n",
       "    <tr>\n",
       "      <th>2950709</th>\n",
       "      <td>322896</td>\n",
       "      <td>157507</td>\n",
       "      <td>1.0</td>\n",
       "    </tr>\n",
       "  </tbody>\n",
       "</table>\n",
       "<p>2950710 rows × 3 columns</p>\n",
       "</div>"
      ],
      "text/plain": [
       "           user    item  click_counts\n",
       "0             0   68866           1.0\n",
       "1             0   87205           1.0\n",
       "2             0   87224           1.0\n",
       "3             0   96755           1.0\n",
       "4             0  157541           1.0\n",
       "...         ...     ...           ...\n",
       "2950705  322894  168401           1.0\n",
       "2950706  322895   63746           1.0\n",
       "2950707  322895  289197           1.0\n",
       "2950708  322896   30760           1.0\n",
       "2950709  322896  157507           1.0\n",
       "\n",
       "[2950710 rows x 3 columns]"
      ]
     },
     "execution_count": 14,
     "metadata": {},
     "output_type": "execute_result"
    }
   ],
   "source": [
    "interactions_full"
   ]
  },
  {
   "cell_type": "code",
   "execution_count": 15,
   "id": "monthly-grill",
   "metadata": {},
   "outputs": [],
   "source": [
    "interactions_train, interactions_test = train_test_split(interactions_full,\n",
    "                                                      stratify = interactions_full[\"user\"],\n",
    "                                                      test_size=0.2,\n",
    "                                                      random_state=90)"
   ]
  },
  {
   "cell_type": "code",
   "execution_count": 16,
   "id": "nearby-mustang",
   "metadata": {},
   "outputs": [
    {
     "name": "stdout",
     "output_type": "stream",
     "text": [
      "*******************************************************\n",
      "train set size : (2360568, 3)\n",
      "test set size : (590142, 3)\n"
     ]
    }
   ],
   "source": [
    "print(\"*******************************************************\")\n",
    "print(\"train set size :\", interactions_train.shape)\n",
    "print(\"test set size :\", interactions_test.shape)"
   ]
  },
  {
   "cell_type": "code",
   "execution_count": 17,
   "id": "written-harrison",
   "metadata": {},
   "outputs": [],
   "source": [
    "#Setting user as index\n",
    "interactions_full_indexed = interactions_full.set_index(\"user\")\n",
    "interactions_train_indexed = interactions_train.set_index(\"user\")\n",
    "interactions_test_indexed = interactions_test.set_index(\"user\")"
   ]
  },
  {
   "cell_type": "markdown",
   "id": "successful-report",
   "metadata": {},
   "source": [
    "### Create IBA model"
   ]
  },
  {
   "cell_type": "code",
   "execution_count": 18,
   "id": "numeric-trustee",
   "metadata": {},
   "outputs": [
    {
     "data": {
      "text/html": [
       "<div>\n",
       "<style scoped>\n",
       "    .dataframe tbody tr th:only-of-type {\n",
       "        vertical-align: middle;\n",
       "    }\n",
       "\n",
       "    .dataframe tbody tr th {\n",
       "        vertical-align: top;\n",
       "    }\n",
       "\n",
       "    .dataframe thead th {\n",
       "        text-align: right;\n",
       "    }\n",
       "</style>\n",
       "<table border=\"1\" class=\"dataframe\">\n",
       "  <thead>\n",
       "    <tr style=\"text-align: right;\">\n",
       "      <th></th>\n",
       "      <th>user</th>\n",
       "      <th>item</th>\n",
       "      <th>click_counts</th>\n",
       "    </tr>\n",
       "  </thead>\n",
       "  <tbody>\n",
       "    <tr>\n",
       "      <th>817198</th>\n",
       "      <td>45687</td>\n",
       "      <td>233717</td>\n",
       "      <td>1.0</td>\n",
       "    </tr>\n",
       "    <tr>\n",
       "      <th>1329245</th>\n",
       "      <td>76236</td>\n",
       "      <td>160132</td>\n",
       "      <td>1.0</td>\n",
       "    </tr>\n",
       "    <tr>\n",
       "      <th>2602052</th>\n",
       "      <td>228634</td>\n",
       "      <td>107031</td>\n",
       "      <td>1.0</td>\n",
       "    </tr>\n",
       "    <tr>\n",
       "      <th>2158298</th>\n",
       "      <td>156841</td>\n",
       "      <td>121854</td>\n",
       "      <td>1.0</td>\n",
       "    </tr>\n",
       "    <tr>\n",
       "      <th>856774</th>\n",
       "      <td>47493</td>\n",
       "      <td>257291</td>\n",
       "      <td>1.0</td>\n",
       "    </tr>\n",
       "    <tr>\n",
       "      <th>...</th>\n",
       "      <td>...</td>\n",
       "      <td>...</td>\n",
       "      <td>...</td>\n",
       "    </tr>\n",
       "    <tr>\n",
       "      <th>1890477</th>\n",
       "      <td>126881</td>\n",
       "      <td>211483</td>\n",
       "      <td>1.0</td>\n",
       "    </tr>\n",
       "    <tr>\n",
       "      <th>1614807</th>\n",
       "      <td>98865</td>\n",
       "      <td>158536</td>\n",
       "      <td>1.0</td>\n",
       "    </tr>\n",
       "    <tr>\n",
       "      <th>711746</th>\n",
       "      <td>38856</td>\n",
       "      <td>198144</td>\n",
       "      <td>1.0</td>\n",
       "    </tr>\n",
       "    <tr>\n",
       "      <th>594546</th>\n",
       "      <td>30406</td>\n",
       "      <td>96635</td>\n",
       "      <td>1.0</td>\n",
       "    </tr>\n",
       "    <tr>\n",
       "      <th>1586022</th>\n",
       "      <td>96112</td>\n",
       "      <td>206735</td>\n",
       "      <td>1.0</td>\n",
       "    </tr>\n",
       "  </tbody>\n",
       "</table>\n",
       "<p>2360568 rows × 3 columns</p>\n",
       "</div>"
      ],
      "text/plain": [
       "           user    item  click_counts\n",
       "817198    45687  233717           1.0\n",
       "1329245   76236  160132           1.0\n",
       "2602052  228634  107031           1.0\n",
       "2158298  156841  121854           1.0\n",
       "856774    47493  257291           1.0\n",
       "...         ...     ...           ...\n",
       "1890477  126881  211483           1.0\n",
       "1614807   98865  158536           1.0\n",
       "711746    38856  198144           1.0\n",
       "594546    30406   96635           1.0\n",
       "1586022   96112  206735           1.0\n",
       "\n",
       "[2360568 rows x 3 columns]"
      ]
     },
     "execution_count": 18,
     "metadata": {},
     "output_type": "execute_result"
    }
   ],
   "source": [
    "interactions_train"
   ]
  },
  {
   "cell_type": "code",
   "execution_count": 19,
   "id": "remarkable-values",
   "metadata": {
    "scrolled": true
   },
   "outputs": [],
   "source": [
    "class IBARecommender():\n",
    "    # Recommend top 5 articles\n",
    "    # Calculate a mean user profile based on his reading history\n",
    "    # Find the most similar articles using cosine similarity\n",
    "    \n",
    "    def __init__(self, data, items_df, embedding):\n",
    "        self.df = data.copy()\n",
    "        self.items_df = items_df\n",
    "        self.embedding = embedding\n",
    "        \n",
    "        self.item_ids = self.items_df[\"article_id\"].unique().tolist()\n",
    "        \n",
    "    def inside_check(self):\n",
    "        return self.df\n",
    "    \n",
    "    def get_single_item_profile(self, item_id):\n",
    "        # input : article id / output : embedding data for article id\n",
    "        idx = self.item_ids.index(item_id)\n",
    "        item_profile = embedding[idx]\n",
    "\n",
    "        return item_profile\n",
    "    \n",
    "    def get_multi_item_profile(self, ids):\n",
    "        # input : list of article ids / output : matrix of embedding data for article ids\n",
    "        items_profiles_list = [self.get_single_item_profile(x) for x in ids]\n",
    "        \n",
    "        return np.array(items_profiles_list)\n",
    "    \n",
    "    def build_single_user_profile(self, user_id):\n",
    "        # Calculate user profile based on his history readings\n",
    "        # input : user_id\n",
    "        # output : user_items_clicks_count_weighted_av(np.array), one dimension array\n",
    "        \n",
    "        interactions_user_df = self.df.loc[user_id]\n",
    "        user_items_profile = self.get_multi_item_profile(interactions_user_df[\"item\"])\n",
    "        \n",
    "        user_items_clicks_count = np.array(interactions_user_df[\"click_counts\"]).reshape(-1, 1)\n",
    "        \n",
    "        # Weighted average of item profiles by click count\n",
    "        user_items_clicks_count_weighted_av = np.sum(np.multiply(user_items_profile, user_items_clicks_count),\n",
    "                                                    axis=0) / np.sum(user_items_clicks_count)\n",
    "        \n",
    "        return user_items_clicks_count_weighted_av\n",
    "    \n",
    "    def get_similar_items_to_user_profile(self,user_id, topn=5):\n",
    "        # Calculate similar items for a single user using cosine similarity\n",
    "        # input : user_id / output : similar_items (list of tuples) - recomended items and similarity values\n",
    "        \n",
    "        user_vector = self.build_single_user_profile(user_id)\n",
    "        \n",
    "        # Compute cosine similarity between user profile and all items profikes\n",
    "        cosine_sim = cosine_similarity([user_vector], embedding)\n",
    "        \n",
    "        # Get the top similar items\n",
    "        similar_indices = cosine_sim.argsort().flatten()[-topn:]\n",
    "        similar_items = sorted([(self.item_ids[i], cosine_sim[0, i]) for i in similar_indices],\n",
    "                              key=lambda x: -x[1])\n",
    "        \n",
    "        return similar_items\n",
    "    \n",
    "    def get_items_interacted(self, user_id, interactions_df):\n",
    "        # list of articles that have already been read by a single user\n",
    "        # input : user_id, interactions_df / output = interacted_items_set - articles already read\n",
    "        \n",
    "        interacted_items = interactions_df.loc[user_id][\"item\"]\n",
    "        interacted_items_set = set(interacted_items if type(interacted_items) == pd.Series else [interacted_items])\n",
    "        \n",
    "        return interacted_items_set\n",
    "    \n",
    "    def recommend_items(self, user_id, df, items_to_ignore=[], topn=5, verbose=False):\n",
    "        # Format recommend articles\n",
    "        # input : user_id, items_to_ignore, topn - number of articles to return, verbose - extra info\n",
    "        # output : recommendations_df - recommended items\n",
    "        \n",
    "        interacted_items = self.get_items_interacted(user_id, df)\n",
    "        \n",
    "        items_to_ignore.extend(interacted_items)\n",
    "        similar_items = self.get_similar_items_to_user_profile(user_id, topn=topn+len(interacted_items))\n",
    "        \n",
    "        # Ignore items that user has already interacted with\n",
    "        similar_items_filtered = list(filter(lambda x: x[0] not in items_to_ignore, similar_items))\n",
    "        \n",
    "        recommendations_df = pd.DataFrame(similar_items_filtered,\n",
    "                                         columns=[\"item\", \"similarity\"]).head(topn)\n",
    "        \n",
    "        if verbose :\n",
    "            if self.items_df is None:\n",
    "                raise Exception(\"items_df is required in verbose mode\")\n",
    "            recommendations_df = recommendations_df.merge(items_df, how=\"left\",\n",
    "                                left_on=\"item\",\n",
    "                                right_on=\"article_id\")[[\"item\", \"similarity\", \"category_id\", \"words_count\"]]\n",
    "        \n",
    "        return recommendations_df\n",
    "        \n",
    "    def evaluate_perfo(self, n_users, k):\n",
    "        # Calculate precision and recall for a sample of users\n",
    "        # input : n_users - number of users used for perf calc, k - number of predicted items\n",
    "        # output : precision, recall, f1_score\n",
    "        \n",
    "        user_indices = interactions_test_indexed.index.values.tolist()\n",
    "        sample_users = random.sample(user_indices, n_users)\n",
    "        \n",
    "        precisions = []\n",
    "        recalls = []\n",
    "        \n",
    "        for user_id in sample_users:\n",
    "            try:\n",
    "                actuals = interactions_train_indexed.loc[user_id, \"item\"].values\n",
    "            except AttributeError:\n",
    "                actuals = [(int(interactions_train_indexed.loc[user_id, \"item\"]))]\n",
    "            predictions_df = self.recommend_items(user_id, interactions_test_indexed, topn=k)\n",
    "            predictions = predictions_df[\"item\"].values\n",
    "            hits = len(set(actuals) & set(predictions))\n",
    "            precision = hits / k\n",
    "            recall = hits / len(actuals)\n",
    "            precisions.append(precision)\n",
    "            recalls.append(precision)\n",
    "            recalls.append(recall)\n",
    "        precision = np.mean(precisions)\n",
    "        recall = np.mean(recalls)\n",
    "        try:\n",
    "            f1 = (2 * precision * recall) / (precision + recall)\n",
    "        except ZeroDivisionError:\n",
    "            f1 = 0             \n",
    "        return [precision, recall, f1]\n"
   ]
  },
  {
   "cell_type": "code",
   "execution_count": 20,
   "id": "economic-matter",
   "metadata": {},
   "outputs": [],
   "source": [
    "def display_user_reading_infos(user_id):\n",
    "    user_df = interactions_full_indexed.copy()\n",
    "    user_df = user_df.loc[user_id]\n",
    "    user_df = user_df.merge(items_df, how=\"left\",\n",
    "                                left_on=\"item\",\n",
    "                                right_on=\"article_id\")[[\"item\", \"click_counts\", \"category_id\", \"words_count\"]]\n",
    "    return user_df"
   ]
  },
  {
   "cell_type": "code",
   "execution_count": 21,
   "id": "enhanced-radius",
   "metadata": {},
   "outputs": [],
   "source": [
    "def metric_1(df_1, df_2):\n",
    "    categories_predicted = df_1.category_id.unique()\n",
    "    categories_read = df_2.category_id.unique()\n",
    "    total_categories_read = len(categories_read)\n",
    "    \n",
    "    correct = 0\n",
    "    \n",
    "    for categ in categories_predicted:\n",
    "        if categ in categories_read:\n",
    "            correct +=1\n",
    "    \n",
    "    return correct/total_categories_read"
   ]
  },
  {
   "cell_type": "code",
   "execution_count": 22,
   "id": "mighty-dublin",
   "metadata": {},
   "outputs": [],
   "source": [
    "def metric_2(df_1, df_2):\n",
    "    categories_predicted = df_1.category_id.unique()\n",
    "    categories_read = df_2.category_id.unique()\n",
    "    correct = 0\n",
    "    \n",
    "    for categ in categories_predicted:\n",
    "        if categ in categories_read:\n",
    "            correct +=1\n",
    "    \n",
    "    return correct/5"
   ]
  },
  {
   "cell_type": "code",
   "execution_count": 23,
   "id": "global-crack",
   "metadata": {},
   "outputs": [
    {
     "name": "stdout",
     "output_type": "stream",
     "text": [
      "Wall time: 37 ms\n"
     ]
    }
   ],
   "source": [
    "%%time\n",
    "cb_model = IBARecommender(interactions_full_indexed, items_df, embedding)"
   ]
  },
  {
   "cell_type": "markdown",
   "id": "aggressive-essence",
   "metadata": {},
   "source": [
    "## Test"
   ]
  },
  {
   "cell_type": "code",
   "execution_count": 24,
   "id": "responsible-thesis",
   "metadata": {},
   "outputs": [
    {
     "name": "stdout",
     "output_type": "stream",
     "text": [
      "Wall time: 4.98 s\n"
     ]
    },
    {
     "data": {
      "text/html": [
       "<div>\n",
       "<style scoped>\n",
       "    .dataframe tbody tr th:only-of-type {\n",
       "        vertical-align: middle;\n",
       "    }\n",
       "\n",
       "    .dataframe tbody tr th {\n",
       "        vertical-align: top;\n",
       "    }\n",
       "\n",
       "    .dataframe thead th {\n",
       "        text-align: right;\n",
       "    }\n",
       "</style>\n",
       "<table border=\"1\" class=\"dataframe\">\n",
       "  <thead>\n",
       "    <tr style=\"text-align: right;\">\n",
       "      <th></th>\n",
       "      <th>item</th>\n",
       "      <th>similarity</th>\n",
       "      <th>category_id</th>\n",
       "      <th>words_count</th>\n",
       "    </tr>\n",
       "  </thead>\n",
       "  <tbody>\n",
       "    <tr>\n",
       "      <th>0</th>\n",
       "      <td>237201</td>\n",
       "      <td>0.819216</td>\n",
       "      <td>375</td>\n",
       "      <td>182</td>\n",
       "    </tr>\n",
       "    <tr>\n",
       "      <th>1</th>\n",
       "      <td>346278</td>\n",
       "      <td>0.809952</td>\n",
       "      <td>440</td>\n",
       "      <td>203</td>\n",
       "    </tr>\n",
       "    <tr>\n",
       "      <th>2</th>\n",
       "      <td>156501</td>\n",
       "      <td>0.803289</td>\n",
       "      <td>281</td>\n",
       "      <td>226</td>\n",
       "    </tr>\n",
       "    <tr>\n",
       "      <th>3</th>\n",
       "      <td>234334</td>\n",
       "      <td>0.802575</td>\n",
       "      <td>375</td>\n",
       "      <td>201</td>\n",
       "    </tr>\n",
       "    <tr>\n",
       "      <th>4</th>\n",
       "      <td>280341</td>\n",
       "      <td>0.802565</td>\n",
       "      <td>412</td>\n",
       "      <td>150</td>\n",
       "    </tr>\n",
       "  </tbody>\n",
       "</table>\n",
       "</div>"
      ],
      "text/plain": [
       "     item  similarity  category_id  words_count\n",
       "0  237201    0.819216          375          182\n",
       "1  346278    0.809952          440          203\n",
       "2  156501    0.803289          281          226\n",
       "3  234334    0.802575          375          201\n",
       "4  280341    0.802565          412          150"
      ]
     },
     "execution_count": 24,
     "metadata": {},
     "output_type": "execute_result"
    }
   ],
   "source": [
    "%%time\n",
    "rec_items = cb_model.recommend_items(1, interactions_full_indexed,verbose=True)\n",
    "rec_items"
   ]
  },
  {
   "cell_type": "code",
   "execution_count": 25,
   "id": "incorporate-fitness",
   "metadata": {},
   "outputs": [
    {
     "data": {
      "text/html": [
       "<div>\n",
       "<style scoped>\n",
       "    .dataframe tbody tr th:only-of-type {\n",
       "        vertical-align: middle;\n",
       "    }\n",
       "\n",
       "    .dataframe tbody tr th {\n",
       "        vertical-align: top;\n",
       "    }\n",
       "\n",
       "    .dataframe thead th {\n",
       "        text-align: right;\n",
       "    }\n",
       "</style>\n",
       "<table border=\"1\" class=\"dataframe\">\n",
       "  <thead>\n",
       "    <tr style=\"text-align: right;\">\n",
       "      <th></th>\n",
       "      <th>item</th>\n",
       "      <th>click_counts</th>\n",
       "      <th>category_id</th>\n",
       "      <th>words_count</th>\n",
       "    </tr>\n",
       "  </thead>\n",
       "  <tbody>\n",
       "    <tr>\n",
       "      <th>0</th>\n",
       "      <td>36162</td>\n",
       "      <td>1.0</td>\n",
       "      <td>43</td>\n",
       "      <td>205</td>\n",
       "    </tr>\n",
       "    <tr>\n",
       "      <th>1</th>\n",
       "      <td>59758</td>\n",
       "      <td>1.0</td>\n",
       "      <td>123</td>\n",
       "      <td>213</td>\n",
       "    </tr>\n",
       "    <tr>\n",
       "      <th>2</th>\n",
       "      <td>96663</td>\n",
       "      <td>1.0</td>\n",
       "      <td>209</td>\n",
       "      <td>206</td>\n",
       "    </tr>\n",
       "    <tr>\n",
       "      <th>3</th>\n",
       "      <td>156723</td>\n",
       "      <td>1.0</td>\n",
       "      <td>281</td>\n",
       "      <td>154</td>\n",
       "    </tr>\n",
       "    <tr>\n",
       "      <th>4</th>\n",
       "      <td>160474</td>\n",
       "      <td>1.0</td>\n",
       "      <td>281</td>\n",
       "      <td>269</td>\n",
       "    </tr>\n",
       "    <tr>\n",
       "      <th>5</th>\n",
       "      <td>183176</td>\n",
       "      <td>1.0</td>\n",
       "      <td>301</td>\n",
       "      <td>285</td>\n",
       "    </tr>\n",
       "    <tr>\n",
       "      <th>6</th>\n",
       "      <td>205973</td>\n",
       "      <td>1.0</td>\n",
       "      <td>331</td>\n",
       "      <td>193</td>\n",
       "    </tr>\n",
       "    <tr>\n",
       "      <th>7</th>\n",
       "      <td>234481</td>\n",
       "      <td>1.0</td>\n",
       "      <td>375</td>\n",
       "      <td>212</td>\n",
       "    </tr>\n",
       "    <tr>\n",
       "      <th>8</th>\n",
       "      <td>235840</td>\n",
       "      <td>1.0</td>\n",
       "      <td>375</td>\n",
       "      <td>159</td>\n",
       "    </tr>\n",
       "    <tr>\n",
       "      <th>9</th>\n",
       "      <td>283392</td>\n",
       "      <td>1.0</td>\n",
       "      <td>412</td>\n",
       "      <td>226</td>\n",
       "    </tr>\n",
       "    <tr>\n",
       "      <th>10</th>\n",
       "      <td>285719</td>\n",
       "      <td>1.0</td>\n",
       "      <td>412</td>\n",
       "      <td>158</td>\n",
       "    </tr>\n",
       "    <tr>\n",
       "      <th>11</th>\n",
       "      <td>327984</td>\n",
       "      <td>1.0</td>\n",
       "      <td>435</td>\n",
       "      <td>265</td>\n",
       "    </tr>\n",
       "  </tbody>\n",
       "</table>\n",
       "</div>"
      ],
      "text/plain": [
       "      item  click_counts  category_id  words_count\n",
       "0    36162           1.0           43          205\n",
       "1    59758           1.0          123          213\n",
       "2    96663           1.0          209          206\n",
       "3   156723           1.0          281          154\n",
       "4   160474           1.0          281          269\n",
       "5   183176           1.0          301          285\n",
       "6   205973           1.0          331          193\n",
       "7   234481           1.0          375          212\n",
       "8   235840           1.0          375          159\n",
       "9   283392           1.0          412          226\n",
       "10  285719           1.0          412          158\n",
       "11  327984           1.0          435          265"
      ]
     },
     "execution_count": 25,
     "metadata": {},
     "output_type": "execute_result"
    }
   ],
   "source": [
    "user_1 = display_user_reading_infos(1)\n",
    "user_1"
   ]
  },
  {
   "cell_type": "code",
   "execution_count": 26,
   "id": "engaged-saudi",
   "metadata": {},
   "outputs": [
    {
     "name": "stdout",
     "output_type": "stream",
     "text": [
      "Articles predicted that are from categories read by the user in the past: 60 %\n",
      "Percentage of categories liked by the user that are included in the prediction: 33 %\n"
     ]
    }
   ],
   "source": [
    "print(\"Articles predicted that are from categories read by the user in the past:\", round(metric_2(rec_items, user_1)*100), \"%\")\n",
    "print(\"Percentage of categories liked by the user that are included in the prediction:\", round(metric_1(rec_items, user_1)*100), \"%\")"
   ]
  },
  {
   "cell_type": "markdown",
   "id": "fatal-emerald",
   "metadata": {},
   "source": [
    "## Performance"
   ]
  },
  {
   "cell_type": "code",
   "execution_count": 27,
   "id": "electoral-pickup",
   "metadata": {},
   "outputs": [
    {
     "name": "stdout",
     "output_type": "stream",
     "text": [
      "For 100 users:\n",
      "\tPrecision =  0.010\n",
      "\tRecall =  0.008\n",
      "\tf1_score =  0.009\n",
      "Wall time: 1min 52s\n"
     ]
    }
   ],
   "source": [
    "%%time\n",
    "cb_perfos = cb_model.evaluate_perfo(n_users=100, k=5)\n",
    "print(\"For 100 users:\")\n",
    "print(\"\\tPrecision = {: .3f}\".format(cb_perfos[0]))\n",
    "print(\"\\tRecall = {: .3f}\".format(cb_perfos[1]))\n",
    "print(\"\\tf1_score = {: .3f}\".format(cb_perfos[2]))"
   ]
  },
  {
   "cell_type": "code",
   "execution_count": 28,
   "id": "imperial-collector",
   "metadata": {},
   "outputs": [
    {
     "name": "stdout",
     "output_type": "stream",
     "text": [
      "Wall time: 7min 20s\n"
     ]
    }
   ],
   "source": [
    "%%time\n",
    "k_list = [1, 3, 5, 10]\n",
    "\n",
    "cb_perfos_dict = dict()\n",
    "for k in k_list:\n",
    "    cb_perfos_dict[k] = cb_model.evaluate_perfo(n_users=100, k=k)"
   ]
  },
  {
   "cell_type": "code",
   "execution_count": 29,
   "id": "liquid-knife",
   "metadata": {},
   "outputs": [
    {
     "data": {
      "text/plain": [
       "{1: [0.02, 0.012, 0.015],\n",
       " 3: [0.01, 0.01125, 0.010588235294117648],\n",
       " 5: [0.008, 0.006686237373737374, 0.007284357133645704],\n",
       " 10: [0.006999999999999999, 0.004429196859903382, 0.005425469243266806]}"
      ]
     },
     "execution_count": 29,
     "metadata": {},
     "output_type": "execute_result"
    }
   ],
   "source": [
    "cb_perfos_dict"
   ]
  },
  {
   "cell_type": "code",
   "execution_count": 30,
   "id": "hidden-boring",
   "metadata": {},
   "outputs": [
    {
     "data": {
      "image/png": "[encoded data removed]",
      "text/plain": [
       "<Figure size 864x504 with 1 Axes>"
      ]
     },
     "metadata": {
      "needs_background": "light"
     },
     "output_type": "display_data"
    }
   ],
   "source": [
    "labels = [5, 10]\n",
    "\n",
    "precision = [cb_perfos_dict[i][0] for i in labels]\n",
    "recall = [cb_perfos_dict[i][1] for i in labels]\n",
    "\n",
    "x = np.arange(len(labels))\n",
    "width = 0.35\n",
    "\n",
    "fig, ax=plt.subplots(figsize=(12, 7))\n",
    "rects1 = ax.bar(x - width / 2, precision, width, label=\"Precision\", color=\"green\")\n",
    "rects2 = ax.bar(x + width / 2, recall, width, label=\"Recall\", color=\"pink\")\n",
    "\n",
    "ax.set_xlabel(\"k\")\n",
    "ax.set_ylabel(\"Score\")\n",
    "ax.set_xticks(x)\n",
    "ax.set_xticklabels(labels)\n",
    "ax.set_title(\"IBA : Precision and recall\")\n",
    "ax.legend()\n",
    "\n",
    "plt.show()"
   ]
  },
  {
   "cell_type": "markdown",
   "id": "chubby-football",
   "metadata": {},
   "source": [
    "---"
   ]
  },
  {
   "cell_type": "code",
   "execution_count": 31,
   "id": "deluxe-florence",
   "metadata": {},
   "outputs": [],
   "source": [
    "metric_3 = []\n",
    "metric_4 = []"
   ]
  },
  {
   "cell_type": "code",
   "execution_count": 32,
   "id": "fitting-pillow",
   "metadata": {},
   "outputs": [
    {
     "name": "stdout",
     "output_type": "stream",
     "text": [
      "Wall time: 1min 3s\n"
     ]
    }
   ],
   "source": [
    "%%time\n",
    "\n",
    "k = 3\n",
    "Art_pred_3 = []\n",
    "Perc_cat_3 = []\n",
    "\n",
    "for user_num in range(50):\n",
    "    rec_items = cb_model.recommend_items(user_num, interactions_full_indexed,topn=k,verbose=True)\n",
    "    user_1 = display_user_reading_infos(user_num)\n",
    "    \n",
    "    Art_pred_3.append(round(metric_2(rec_items, user_1)*100))\n",
    "    Perc_cat_3.append(round(metric_1(rec_items, user_1)*100))\n",
    "    \n",
    "metric_3.append(sum(Art_pred_3)/len(Art_pred_3))\n",
    "metric_4.append(sum(Perc_cat_3)/len(Perc_cat_3)) "
   ]
  },
  {
   "cell_type": "code",
   "execution_count": 33,
   "id": "silver-baseball",
   "metadata": {},
   "outputs": [
    {
     "name": "stdout",
     "output_type": "stream",
     "text": [
      "Wall time: 60 s\n"
     ]
    }
   ],
   "source": [
    "%%time\n",
    "\n",
    "k = 5\n",
    "Art_pred_5 = []\n",
    "Perc_cat_5 = []\n",
    "\n",
    "for user_num in range(50):\n",
    "    rec_items = cb_model.recommend_items(user_num, interactions_full_indexed,topn=k,verbose=True)\n",
    "    user_1 = display_user_reading_infos(user_num)\n",
    "    \n",
    "    Art_pred_5.append(round(metric_2(rec_items, user_1)*100))\n",
    "    Perc_cat_5.append(round(metric_1(rec_items, user_1)*100))\n",
    "\n",
    "metric_3.append(sum(Art_pred_5)/len(Art_pred_5))\n",
    "metric_4.append(sum(Perc_cat_5)/len(Perc_cat_5)) "
   ]
  },
  {
   "cell_type": "code",
   "execution_count": 34,
   "id": "handled-lender",
   "metadata": {},
   "outputs": [
    {
     "name": "stdout",
     "output_type": "stream",
     "text": [
      "Wall time: 1min 3s\n"
     ]
    }
   ],
   "source": [
    "%%time\n",
    "\n",
    "k = 10\n",
    "Art_pred_10 = []\n",
    "Perc_cat_10 = []\n",
    "\n",
    "for user_num in range(50):\n",
    "    rec_items = cb_model.recommend_items(user_num,interactions_full_indexed,topn=k,verbose=True)\n",
    "    user_1 = display_user_reading_infos(user_num)\n",
    "    \n",
    "    Art_pred_10.append(round(metric_2(rec_items, user_1)*100))\n",
    "    Perc_cat_10.append(round(metric_1(rec_items, user_1)*100))\n",
    "    \n",
    "metric_3.append(sum(Art_pred_10)/len(Art_pred_10))\n",
    "metric_4.append(sum(Perc_cat_10)/len(Perc_cat_10))    "
   ]
  },
  {
   "cell_type": "code",
   "execution_count": 35,
   "id": "normal-mathematics",
   "metadata": {},
   "outputs": [
    {
     "data": {
      "image/png": "[encoded data removed]",
      "text/plain": [
       "<Figure size 864x504 with 1 Axes>"
      ]
     },
     "metadata": {
      "needs_background": "light"
     },
     "output_type": "display_data"
    }
   ],
   "source": [
    "labels = [3, 5, 10]\n",
    "\n",
    "x = np.arange(len(labels))\n",
    "width = 0.35\n",
    "\n",
    "fig, ax=plt.subplots(figsize=(12, 7))\n",
    "rects1 = ax.bar(x - width / 2, metric_3, width, label=\"Metric 3\", color=\"grey\")\n",
    "rects2 = ax.bar(x + width / 2, metric_4, width, label=\"Metric 4\", color=\"blue\")\n",
    "\n",
    "ax.set_xlabel(\"k\")\n",
    "ax.set_ylabel(\"Score %\")\n",
    "ax.set_xticks(x)\n",
    "ax.set_xticklabels(labels)\n",
    "ax.set_title(\"IBA : Metric 3 and Metric 4\")\n",
    "ax.legend()\n",
    "\n",
    "plt.show()"
   ]
  },
  {
   "cell_type": "markdown",
   "id": "logical-metro",
   "metadata": {},
   "source": [
    "## Content based approach (CBA)"
   ]
  },
  {
   "cell_type": "markdown",
   "id": "executive-drunk",
   "metadata": {},
   "source": [
    "### Create CBA model"
   ]
  },
  {
   "cell_type": "code",
   "execution_count": 36,
   "id": "adjusted-coaching",
   "metadata": {},
   "outputs": [],
   "source": [
    "class CBARecommender():\n",
    "    def __init__(self, data, items, sample_size=None, save_lookup_dicts=False):\n",
    "        \n",
    "        self.df = data.copy()\n",
    "        \n",
    "        if not sample_size:\n",
    "            self.sample_size = len(self.df)\n",
    "        else:\n",
    "            self.sample_size = sample_size\n",
    "            \n",
    "        self.items = items\n",
    "        self.save_lookup_dicts = save_lookup_dicts\n",
    "        \n",
    "        self.create_sparse_matrix()\n",
    "        \n",
    "    def inside_check(self):\n",
    "        # Just used to return internal variables for checking\n",
    "        return self.user_to_sparse_user\n",
    "        \n",
    "    \n",
    "    def smooth_user_preference(self, x):\n",
    "        \"\"\"\n",
    "        Smooth click counts :\n",
    "        Input :\n",
    "            - x (int) : number of clicks on an article for a single user\n",
    "        Output :\n",
    "            - (float) : smoothed number of clicks\n",
    "        \"\"\"\n",
    "\n",
    "        return math.log(1+x, 2)\n",
    "    \n",
    "    \n",
    "    def map_ids(self, row, mapper):\n",
    "        \"\"\"\n",
    "        Convert indices between sparse and compressed matrices :\n",
    "        Input :\n",
    "            - row (int) : index to convert\n",
    "            - mapper (dict of int) : dictionary used for conversion\n",
    "        Output :\n",
    "            - (int) : converted index\n",
    "        \"\"\"\n",
    "\n",
    "        return mapper[row]\n",
    "\n",
    "        \n",
    "    def prepare_data(self):\n",
    "        \"\"\"\n",
    "        Process input dataframe to include only relevant information :\n",
    "        \"\"\"\n",
    "            \n",
    "        self.df = self.df[[\"user_id\", \"click_article_id\"]]\n",
    "        \n",
    "        self.df.rename(columns={\"user_id\": \"user\", \"click_article_id\": \"item\"},\n",
    "                      inplace=True)\n",
    "        self.df[\"click_counts\"] = 1\n",
    "        self.df = self.df.groupby([\"user\", \"item\"])[\"click_counts\"] \\\n",
    "                    .sum().apply(self.smooth_user_preference).reset_index()\n",
    "        \n",
    "        self.df.sort_values(by=\"user\", axis=0, inplace=True)\n",
    "        self.df = self.df[:self.sample_size]\n",
    "    \n",
    "    \n",
    "        self.df[\"user\"] = self.df[\"user\"].astype(\"category\")\n",
    "        self.df[\"item\"] = self.df[\"item\"].astype(\"category\")\n",
    "        \n",
    "        self.df[\"user_code\"] = self.df[\"user\"].cat.codes\n",
    "        self.df[\"item_code\"] = self.df[\"item\"].cat.codes\n",
    "        \n",
    "        self.item_lookup = self.items[[\"article_id\", \"category_id\"]].drop_duplicates()\n",
    "        self.item_lookup.rename(columns={\"article_id\": \"item\", \"category_id\": \"category\"}, inplace=True)\n",
    "   \n",
    "    \n",
    "    def create_sparse_matrix(self):\n",
    "        \"\"\"\n",
    "        Transform spare data into a scipy sparse matrix to save memory.\n",
    "        Calculate lookup dictionaries for indices conversions.\n",
    "        \"\"\"\n",
    "        \n",
    "        def save(obj, file_name, folder=\"./resources\"):\n",
    "            file_name = file_name + \".pkl\"\n",
    "            file_name = os.path.join(folder, file_name)\n",
    "            with open(file_name, \"wb\") as f:\n",
    "                pickle.dump(obj, f)\n",
    "                \n",
    "        def load(file_name, folder=\"./resources\"):\n",
    "            file_name = file_name + \".pkl\"\n",
    "            file_name = os.path.join(folder, file_name)\n",
    "            with open(file_name, \"rb\") as f:\n",
    "                loaded_file = pickle.load(f)\n",
    "            return loaded_file        \n",
    "                \n",
    "        self.prepare_data()\n",
    "        \n",
    "        item_to_idx = {}\n",
    "        idx_to_item = {}\n",
    "        for (idx, item) in enumerate(self.df[\"item_code\"].unique().tolist()):\n",
    "            item_to_idx[item] = idx\n",
    "            idx_to_item[idx] = item\n",
    "\n",
    "        user_to_idx = {}\n",
    "        idx_to_user = {}\n",
    "        for (idx, user) in enumerate(self.df[\"user_code\"].unique().tolist()):\n",
    "            user_to_idx[user] = idx\n",
    "            idx_to_user[idx] = user\n",
    "         \n",
    "        I = self.df[\"user_code\"].apply(self.map_ids, args=[user_to_idx]).values\n",
    "        J = self.df[\"item_code\"].apply(self.map_ids, args=[item_to_idx]).values\n",
    "        V = np.ones(I.shape[0])\n",
    "        \n",
    "        clicks = sparse.coo_matrix((V, (I, J)), dtype=np.float64)\n",
    "        self.clicks_sparse = clicks.tocsr()\n",
    "        \n",
    "        self.df[\"user_sparse_code\"] = self.df[\"user_code\"].map(user_to_idx)\n",
    "        self.df[\"item_sparse_code\"] = self.df[\"item_code\"].map(item_to_idx)\n",
    "        \n",
    "        self.users_arr = np.sort(self.df[\"user_sparse_code\"].unique()) # Get our unique customers\n",
    "        self.items_arr = self.df[\"item_sparse_code\"].unique() # Get our unique products that were purchased\n",
    "        print(\"users_arr :\\n\", self.users_arr)\n",
    "            \n",
    "        if self.save_lookup_dicts:\n",
    "            \n",
    "            print(\"calcul des dictionnaires\")\n",
    "            save_dir = \".\\resources\"\n",
    "            self.item_to_sparse_item = {}\n",
    "            self.sparse_item_to_item = {}\n",
    "            for sparse_item in self.df[\"item_sparse_code\"].unique().tolist():\n",
    "                item = self.df[self.df[\"item_sparse_code\"] == sparse_item][\"item\"].tolist()[0]\n",
    "                self.item_to_sparse_item[item] = sparse_item\n",
    "                self.sparse_item_to_item[sparse_item] = item\n",
    "\n",
    "            self.user_to_sparse_user = {}\n",
    "            self.sparse_user_to_user = {}\n",
    "            for sparse_user in self.df[\"user_sparse_code\"].unique().tolist():\n",
    "                user = self.df[self.df[\"user_sparse_code\"] == sparse_user][\"user\"].tolist()[0]\n",
    "                self.user_to_sparse_user[user] = sparse_user\n",
    "                self.sparse_user_to_user[sparse_user] = user\n",
    "                \n",
    "            save(self.item_to_sparse_item, \"item_to_sparse_item\")\n",
    "            save(self.sparse_item_to_item, \"sparse_item_to_item\")\n",
    "            save(self.user_to_sparse_user, \"user_to_sparse_user\")\n",
    "            save(self.sparse_user_to_user, \"sparse_user_to_user\")\n",
    "            \n",
    "        else:\n",
    "            print(\"changement des dictionnaires\")\n",
    "            self.item_to_sparse_item = load(\"item_to_sparse_item\")\n",
    "            self.sparse_item_to_item = load(\"sparse_item_to_item\")\n",
    "            self.user_to_sparse_user = load(\"user_to_sparse_user\")\n",
    "            self.sparse_user_to_user = load(\"sparse_user_to_user\")\n",
    "\n",
    "    def make_train(self, pct_test = 0.2):\n",
    "        testing_set = self.clicks_sparse.copy()\n",
    "        testing_set[testing_set != 0] = 1\n",
    "        training_set = self.clicks_sparse.copy()\n",
    "        nonzero_ids = trainin_set.nonzero()\n",
    "        nonzero_pairs = list(zip(nonzero_ids[0], nonzero_ids[1]))\n",
    "        random.seed(0)\n",
    "        num_samples = int(np.ceil(pct_test*len(nonzero_pairs)))\n",
    "        samples = random.sample(nonzero_pairs, num_samples)\n",
    "        user_inds = [index[0] for index in samples]\n",
    "        item_inds = [index[1] for index in samples]\n",
    "        training_set[user_inds, item_inds] = 0\n",
    "        training_set.eliminate_zeros()\n",
    "        \n",
    "        return training_set, testing_set, list(set(user_inds))\n",
    "\n",
    "    def fit_model(self, alpha=15, factors=20, regularization=0.1, iterations=10,\n",
    "                 pct_test=0.2):\n",
    "        \"\"\"\n",
    "        Calculate users and items matrices that will be used for recommendations (dot product)\n",
    "        Input :\n",
    "            - alpha (int) : \n",
    "            - factors (int) : second dimension of users and items matrices\n",
    "            - regularization (float) : regularization coefficient\n",
    "            - iteration (int) : number od epochs for model training\n",
    "            - pct_test (float) : percentage of data masked in training set\n",
    "        Output :\n",
    "            - user_vecs (np.array) : matrix containing users features\n",
    "            - item_vecs (np.array) : matrix containing articles features\n",
    "        \"\"\"\n",
    "        \n",
    "        testing_set = self.clicks_sparse.copy()\n",
    "        testing_set[testing_set != 0] = 1\n",
    "        training_set = self.clicks_sparse.copy()\n",
    "        nonzero_ids = training_set.nonzero()\n",
    "        nonzero_pairs = list(zip(nonzero_ids[0], nonzero_ids[1]))\n",
    "        random.seed(0)\n",
    "        num_samples = int(np.ceil(pct_test*len(nonzero_pairs)))\n",
    "        samples = random.sample(nonzero_pairs, num_samples)\n",
    "        user_inds = [index[0] for index in samples]\n",
    "        item_inds = [index[1] for index in samples]\n",
    "        training_set[user_inds, item_inds] = 0\n",
    "        training_set.eliminate_zeros()\n",
    "        \n",
    "        self.test_set= testing_set\n",
    "        self.train_set= training_set\n",
    "        self.items_users_altered = list(set(user_inds))\n",
    "        self.user_vecs, self.item_vecs = \\\n",
    "            implicit.alternating_least_squares((self.train_set*alpha).astype('double'), \n",
    "                                                              factors=factors, \n",
    "                                                              regularization=regularization, \n",
    "                                                              iterations=iterations)\n",
    "        \n",
    "        \n",
    "        return self.user_vecs, self.item_vecs\n",
    "\n",
    "    def rec_items(self, user_id, num_items = 5):\n",
    "        user_id = self.user_to_sparse_user[user_id]\n",
    "        user_ind = np.where(self.users_arr == user_id)[0][0]\n",
    "        pref_vec = self.train_set[user_ind, :].toarray()\n",
    "        pref_vec = pref_vec.reshape(-1) + 1\n",
    "        pref_vec[pref_vec>1] = 0\n",
    "        rec_vector = self.user_vecs[user_ind,:].dot(self.item_vecs.T)\n",
    "        \n",
    "        min_max=MinMaxScaler()\n",
    "        rec_vector_scaled=min_max.fit_transform(rec_vector.reshape(-1, 1))[:,0]\n",
    "        recommend_vector=pref_vec*rec_vector_scaled\n",
    "        \n",
    "        product_ids = np.argsort(recommend_vector)[::-1][:num_items]\n",
    "        rec_list=[]\n",
    "        \n",
    "        for index in product_ids:\n",
    "            code = self.items_arr[index]\n",
    "            code = self.sparse_item_to_item[code]\n",
    "            rec_list.append([code,\n",
    "                            self.item_lookup[\"category\"].loc[self.item_lookup[\"item\"] == code].iloc[0]])\n",
    "            \n",
    "        codes = [item[0] for item in rec_list]\n",
    "        \n",
    "        descriptions = [item[1] for item in rec_list]\n",
    "        final_frame = pd.DataFrame({\"item\":codes, \"category\":descriptions})\n",
    "        \n",
    "        return codes, final_frame[[\"item\", \"category\"]]\n",
    "    \n",
    "    def auc_score(self,predictions, test):\n",
    "        \n",
    "        fpr, tpr, tresholds = metrics.roc_curve(test, predictions)\n",
    "        \n",
    "        return metrics.auc(fpr, tpr)\n",
    "    \n",
    "    \n",
    "    def evaluate_perfo(self, n_users, k):\n",
    "        # Calculate precision and recall for a sample of users\n",
    "        # input : n_users - number of users used for perf calc, k - number of predicted items\n",
    "        # output : precision, recall, f1_score\n",
    "        \n",
    "        predictions = [sparse.csr_matrix(self.user_vecs), sparse.csr_matrix(self.item_vecs.T)]\n",
    "        store_auc = []\n",
    "        precisions = []\n",
    "        popularity_auc = []\n",
    "        recalls = []\n",
    "        \n",
    "        pop_items = np.array(self.test_set.sum(axis=0)).reshape(-1)\n",
    "        \n",
    "        item_vecs = predictions[1]\n",
    "        \n",
    "        for user in self.items_users_altered:\n",
    "            training_row = self.train_set[user,:].toarray().reshape(-1)\n",
    "            zero_inds = np.where(training_row == 0)\n",
    "            \n",
    "            user_vec = predictions[0][user,:]\n",
    "            pred = user_vec.dot(item_vecs).toarray()[0, zero_inds].reshape(-1)\n",
    "            \n",
    "            actual = self.test_set[user,:].toarray()[0,zero_inds].reshape(-1)\n",
    "            \n",
    "            pop = pop_items[zero_inds]\n",
    "            store_auc.append(self.auc_score(pred, actual))\n",
    "            popularity_auc.append(self.auc_score(pop, actual))\n",
    "            \n",
    "            read_items = np.where(actual == 1)[0]\n",
    "            topk = np.flip(np.argsort(pred))[:k]\n",
    "            hits = float(len(set(topk) & set(read_items)))\n",
    "            precision = hits / k\n",
    "            recall = hits / float(len(read_items))\n",
    "            precisions.append(precision)\n",
    "            recalls.append(recall)\n",
    "        \n",
    "        cf_auc = np.mean(store_auc)\n",
    "        pop_auc = np.mean(popularity_auc)\n",
    "        precision = np.mean(precisions)\n",
    "        recall = np.mean(recalls)\n",
    "        try:\n",
    "            f1 = (2 * precision * recall) / (precision + recall)\n",
    "        except ZeroDivisionError : \n",
    "            f1 = 0\n",
    "            \n",
    "        return [float(\"%.3f\"%cf_auc),\n",
    "                float(\"%.3f\"%pop_auc),\n",
    "                float(\"%.3f\"%precision),\n",
    "                float(\"%.3f\"%recall),\n",
    "                float(\"%.3f\"%f1)\n",
    "               ]\n",
    "    def get_read_items(self, user_id):\n",
    "        \n",
    "        user_id = self.user_to_sparse_user[user_id]\n",
    "        print(\"user_id: \", user_id)\n",
    "        print(\"train_set: \", self.train_set)\n",
    "        user_ind = np.where(self.users_arr == user_id)[0][0]\n",
    "        print(\"user_ind: \", user_ind)\n",
    "        purchased_ind = self.train_set[user_ind,:].nonzero()[1]\n",
    "        print(\"purchased ind: \", purchased_ind)\n",
    "        item_codes = [self.sparse_item_to_item[x] for x in purchased_ind]\n",
    "        print(\"item codes: \", item_codes)\n",
    "                \n",
    "        return self.item_lookup.loc[self.item_lookup[\"item\"].isin(item.codes)]\n"
   ]
  },
  {
   "cell_type": "code",
   "execution_count": 37,
   "id": "conventional-routine",
   "metadata": {},
   "outputs": [
    {
     "name": "stdout",
     "output_type": "stream",
     "text": [
      "users_arr :\n",
      " [   0    1    2 ... 4235 4236 4237]\n",
      "calcul des dictionnaires\n",
      "Wall time: 23.1 s\n"
     ]
    }
   ],
   "source": [
    "%%time\n",
    "cf_model = CBARecommender(df_clicks, items_df, sample_size=100000, save_lookup_dicts=True)"
   ]
  },
  {
   "cell_type": "code",
   "execution_count": 38,
   "id": "great-negotiation",
   "metadata": {},
   "outputs": [],
   "source": [
    "import implicit"
   ]
  },
  {
   "cell_type": "code",
   "execution_count": 39,
   "id": "sweet-stability",
   "metadata": {},
   "outputs": [
    {
     "name": "stderr",
     "output_type": "stream",
     "text": [
      "This method is deprecated. Please use the AlternatingLeastSquares class instead\n",
      "WARNING:root:OpenBLAS detected. Its highly recommend to set the environment variable 'export OPENBLAS_NUM_THREADS=1' to disable its internal multithreading\n"
     ]
    },
    {
     "data": {
      "application/vnd.jupyter.widget-view+json": {
       "model_id": "860a5b55c3e24a49807cdec554120b56",
       "version_major": 2,
       "version_minor": 0
      },
      "text/plain": [
       "  0%|          | 0/10 [00:00<?, ?it/s]"
      ]
     },
     "metadata": {},
     "output_type": "display_data"
    }
   ],
   "source": [
    "user_vecs, item_vecs = cf_model.fit_model(iterations=10, pct_test=0.2)"
   ]
  },
  {
   "cell_type": "code",
   "execution_count": 40,
   "id": "diagnostic-suspension",
   "metadata": {},
   "outputs": [
    {
     "name": "stdout",
     "output_type": "stream",
     "text": [
      "user_vecs.shape : (4238, 20)\n",
      "item_vecs.shape : (8648, 20)\n"
     ]
    }
   ],
   "source": [
    "print(\"user_vecs.shape :\", user_vecs.shape)\n",
    "print(\"item_vecs.shape :\", item_vecs.shape)"
   ]
  },
  {
   "cell_type": "markdown",
   "id": "mounted-alabama",
   "metadata": {},
   "source": [
    "#### Predictions"
   ]
  },
  {
   "cell_type": "code",
   "execution_count": 41,
   "id": "stupid-premises",
   "metadata": {},
   "outputs": [
    {
     "name": "stdout",
     "output_type": "stream",
     "text": [
      "[68866, 272218, 235689, 237620, 251735]\n"
     ]
    },
    {
     "data": {
      "text/html": [
       "<div>\n",
       "<style scoped>\n",
       "    .dataframe tbody tr th:only-of-type {\n",
       "        vertical-align: middle;\n",
       "    }\n",
       "\n",
       "    .dataframe tbody tr th {\n",
       "        vertical-align: top;\n",
       "    }\n",
       "\n",
       "    .dataframe thead th {\n",
       "        text-align: right;\n",
       "    }\n",
       "</style>\n",
       "<table border=\"1\" class=\"dataframe\">\n",
       "  <thead>\n",
       "    <tr style=\"text-align: right;\">\n",
       "      <th></th>\n",
       "      <th>item</th>\n",
       "      <th>category</th>\n",
       "    </tr>\n",
       "  </thead>\n",
       "  <tbody>\n",
       "    <tr>\n",
       "      <th>0</th>\n",
       "      <td>68866</td>\n",
       "      <td>136</td>\n",
       "    </tr>\n",
       "    <tr>\n",
       "      <th>1</th>\n",
       "      <td>272218</td>\n",
       "      <td>399</td>\n",
       "    </tr>\n",
       "    <tr>\n",
       "      <th>2</th>\n",
       "      <td>235689</td>\n",
       "      <td>375</td>\n",
       "    </tr>\n",
       "    <tr>\n",
       "      <th>3</th>\n",
       "      <td>237620</td>\n",
       "      <td>375</td>\n",
       "    </tr>\n",
       "    <tr>\n",
       "      <th>4</th>\n",
       "      <td>251735</td>\n",
       "      <td>388</td>\n",
       "    </tr>\n",
       "  </tbody>\n",
       "</table>\n",
       "</div>"
      ],
      "text/plain": [
       "     item  category\n",
       "0   68866       136\n",
       "1  272218       399\n",
       "2  235689       375\n",
       "3  237620       375\n",
       "4  251735       388"
      ]
     },
     "execution_count": 41,
     "metadata": {},
     "output_type": "execute_result"
    }
   ],
   "source": [
    "rec_items_list, rec_items_df = cf_model.rec_items(user_id=3, num_items=5)\n",
    "print(rec_items_list)\n",
    "rec_items_df"
   ]
  },
  {
   "cell_type": "markdown",
   "id": "czech-winter",
   "metadata": {},
   "source": [
    "#### Performance"
   ]
  },
  {
   "cell_type": "code",
   "execution_count": 42,
   "id": "spanish-bidder",
   "metadata": {},
   "outputs": [
    {
     "name": "stdout",
     "output_type": "stream",
     "text": [
      "[0.862, 0.917, 0.058, 0.162, 0.086]\n"
     ]
    }
   ],
   "source": [
    "cf_perfos = cf_model.evaluate_perfo(0, k=10)\n",
    "print(cf_perfos)"
   ]
  },
  {
   "cell_type": "code",
   "execution_count": 43,
   "id": "stuffed-coast",
   "metadata": {},
   "outputs": [
    {
     "name": "stdout",
     "output_type": "stream",
     "text": [
      "Wall time: 1min 1s\n"
     ]
    }
   ],
   "source": [
    "%%time\n",
    "k_list = [1, 3, 5, 10]\n",
    "\n",
    "cf_perfos_dict = dict()\n",
    "for k in k_list:\n",
    "    cf_perfos_dict[k] = cf_model.evaluate_perfo(0, k=k)"
   ]
  },
  {
   "cell_type": "code",
   "execution_count": 44,
   "id": "boolean-relief",
   "metadata": {},
   "outputs": [
    {
     "data": {
      "text/plain": [
       "{1: [0.862, 0.917, 0.104, 0.034, 0.051],\n",
       " 3: [0.862, 0.917, 0.084, 0.08, 0.082],\n",
       " 5: [0.862, 0.917, 0.073, 0.11, 0.087],\n",
       " 10: [0.862, 0.917, 0.058, 0.162, 0.086]}"
      ]
     },
     "execution_count": 44,
     "metadata": {},
     "output_type": "execute_result"
    }
   ],
   "source": [
    "cf_perfos_dict"
   ]
  },
  {
   "cell_type": "code",
   "execution_count": 45,
   "id": "positive-great",
   "metadata": {},
   "outputs": [
    {
     "data": {
      "image/png": "[encoded data removed]",
      "text/plain": [
       "<Figure size 864x504 with 1 Axes>"
      ]
     },
     "metadata": {
      "needs_background": "light"
     },
     "output_type": "display_data"
    }
   ],
   "source": [
    "labels = [5, 10]\n",
    "\n",
    "precision = [cf_perfos_dict[i][2] for i in labels]\n",
    "recall = [cf_perfos_dict[i][3] for i in labels]\n",
    "\n",
    "x = np.arange(len(labels))\n",
    "width = 0.35\n",
    "\n",
    "fig, ax=plt.subplots(figsize=(12, 7))\n",
    "rects1 = ax.bar(x - width / 2, precision, width, label=\"Precision\")\n",
    "rects2 = ax.bar(x + width / 2, recall, width, label=\"Recall\")\n",
    "\n",
    "ax.set_xlabel(\"k\")\n",
    "ax.set_ylabel(\"Score\")\n",
    "ax.set_xticks(x)\n",
    "ax.set_xticklabels(labels)\n",
    "ax.set_title(\"CBA : Precision and recall\")\n",
    "ax.legend()\n",
    "\n",
    "plt.show()"
   ]
  },
  {
   "cell_type": "markdown",
   "id": "pleased-contamination",
   "metadata": {},
   "source": [
    "---"
   ]
  },
  {
   "cell_type": "code",
   "execution_count": 46,
   "id": "egyptian-casting",
   "metadata": {},
   "outputs": [],
   "source": [
    "def metric_3(df_1, df_2):\n",
    "    categories_predicted = df_1.category.unique()\n",
    "    categories_read = df_2.category_id.unique()\n",
    "    total_categories_read = len(categories_read)\n",
    "    \n",
    "    correct = 0\n",
    "    \n",
    "    for categ in categories_predicted:\n",
    "        if categ in categories_read:\n",
    "            correct +=1\n",
    "    \n",
    "    return correct/total_categories_read"
   ]
  },
  {
   "cell_type": "code",
   "execution_count": 47,
   "id": "neither-length",
   "metadata": {},
   "outputs": [],
   "source": [
    "def metric_4(df_1, df_2):\n",
    "    categories_predicted = df_1.category.unique()\n",
    "    categories_read = df_2.category_id.unique()\n",
    "    correct = 0\n",
    "    \n",
    "    for categ in categories_predicted:\n",
    "        if categ in categories_read:\n",
    "            correct +=1\n",
    "    \n",
    "    return correct/5"
   ]
  },
  {
   "cell_type": "code",
   "execution_count": 48,
   "id": "invalid-carter",
   "metadata": {},
   "outputs": [],
   "source": [
    "metric_5 = []\n",
    "metric_6 = []"
   ]
  },
  {
   "cell_type": "code",
   "execution_count": 49,
   "id": "opponent-mounting",
   "metadata": {},
   "outputs": [
    {
     "name": "stdout",
     "output_type": "stream",
     "text": [
      "Wall time: 4.16 s\n"
     ]
    }
   ],
   "source": [
    "%%time\n",
    "\n",
    "k = 3\n",
    "Art_pred_3 = []\n",
    "Perc_cat_3 = []\n",
    "\n",
    "for user_num in range(50):\n",
    "    rec_items_list, rec_items_df = cf_model.rec_items(user_id=user_num, num_items=k)\n",
    "    user_1 = display_user_reading_infos(user_num)\n",
    "    \n",
    "    Art_pred_3.append(round(metric_4(rec_items_df, user_1)*100))\n",
    "    Perc_cat_3.append(round(metric_3(rec_items_df, user_1)*100))\n",
    "    \n",
    "metric_5.append(sum(Art_pred_3)/len(Art_pred_3))\n",
    "metric_6.append(sum(Perc_cat_3)/len(Perc_cat_3)) "
   ]
  },
  {
   "cell_type": "code",
   "execution_count": 50,
   "id": "excellent-pharmaceutical",
   "metadata": {},
   "outputs": [
    {
     "name": "stdout",
     "output_type": "stream",
     "text": [
      "Wall time: 4.52 s\n"
     ]
    }
   ],
   "source": [
    "%%time\n",
    "\n",
    "k = 5\n",
    "Art_pred_5 = []\n",
    "Perc_cat_5 = []\n",
    "\n",
    "for user_num in range(50):\n",
    "    rec_items_list, rec_items_df = cf_model.rec_items(user_id=user_num, num_items=k)\n",
    "    user_1 = display_user_reading_infos(user_num)\n",
    "    \n",
    "    Art_pred_5.append(round(metric_4(rec_items_df, user_1)*100))\n",
    "    Perc_cat_5.append(round(metric_3(rec_items_df, user_1)*100))\n",
    "\n",
    "metric_5.append(sum(Art_pred_5)/len(Art_pred_5))\n",
    "metric_6.append(sum(Perc_cat_5)/len(Perc_cat_5)) "
   ]
  },
  {
   "cell_type": "code",
   "execution_count": 51,
   "id": "finite-texas",
   "metadata": {},
   "outputs": [
    {
     "name": "stdout",
     "output_type": "stream",
     "text": [
      "Wall time: 4.64 s\n"
     ]
    }
   ],
   "source": [
    "%%time\n",
    "\n",
    "k = 10\n",
    "Art_pred_10 = []\n",
    "Perc_cat_10 = []\n",
    "\n",
    "for user_num in range(50):\n",
    "    rec_items_list, rec_items_df = cf_model.rec_items(user_id=user_num, num_items=k)\n",
    "    user_1 = display_user_reading_infos(user_num)\n",
    "    \n",
    "    Art_pred_10.append(round(metric_4(rec_items_df, user_1)*100))\n",
    "    Perc_cat_10.append(round(metric_3(rec_items_df, user_1)*100))\n",
    "    \n",
    "metric_5.append(sum(Art_pred_10)/len(Art_pred_10))\n",
    "metric_6.append(sum(Perc_cat_10)/len(Perc_cat_10))    "
   ]
  },
  {
   "cell_type": "code",
   "execution_count": 52,
   "id": "posted-emphasis",
   "metadata": {},
   "outputs": [
    {
     "data": {
      "image/png": "[encoded data removed]",
      "text/plain": [
       "<Figure size 864x504 with 1 Axes>"
      ]
     },
     "metadata": {
      "needs_background": "light"
     },
     "output_type": "display_data"
    }
   ],
   "source": [
    "labels = [3, 5, 10]\n",
    "\n",
    "x = np.arange(len(labels))\n",
    "width = 0.35\n",
    "\n",
    "fig, ax=plt.subplots(figsize=(12, 7))\n",
    "rects1 = ax.bar(x - width / 2, metric_5, width, label=\"Metric 3\", color=\"grey\")\n",
    "rects2 = ax.bar(x + width / 2, metric_6, width, label=\"Metric 4\", color=\"blue\")\n",
    "\n",
    "ax.set_xlabel(\"k\")\n",
    "ax.set_ylabel(\"Score %\")\n",
    "ax.set_xticks(x)\n",
    "ax.set_xticklabels(labels)\n",
    "ax.set_title(\"IBA : Metric 3 and Metric 4\")\n",
    "ax.legend()\n",
    "\n",
    "plt.show()"
   ]
  },
  {
   "cell_type": "markdown",
   "id": "threatened-steering",
   "metadata": {},
   "source": [
    "---"
   ]
  },
  {
   "cell_type": "markdown",
   "id": "swiss-petersburg",
   "metadata": {},
   "source": [
    "## IBA vs CBA"
   ]
  },
  {
   "cell_type": "code",
   "execution_count": 53,
   "id": "fossil-college",
   "metadata": {},
   "outputs": [
    {
     "data": {
      "image/png": "[encoded data removed]",
      "text/plain": [
       "<Figure size 864x504 with 1 Axes>"
      ]
     },
     "metadata": {
      "needs_background": "light"
     },
     "output_type": "display_data"
    }
   ],
   "source": [
    "cb_recall = [cb_perfos_dict[i][1] for i in labels]\n",
    "cf_recall = [cf_perfos_dict[i][3] for i in labels]\n",
    "\n",
    "x = np.arange(len(labels))\n",
    "width = 0.35\n",
    "\n",
    "fig, ax=plt.subplots(figsize=(12, 7))\n",
    "rects1 = ax.bar(x - width / 2, cb_recall, width, label=\"IBA\")\n",
    "rects2 = ax.bar(x + width / 2, cf_recall, width, label=\"CBA\")\n",
    "\n",
    "ax.set_xlabel(\"k\")\n",
    "ax.set_ylabel(\"Score\")\n",
    "ax.set_xticks(x)\n",
    "ax.set_xticklabels(labels)\n",
    "ax.set_title(\"IBA vs CBA\")\n",
    "ax.legend()\n",
    "\n",
    "plt.show()"
   ]
  },
  {
   "cell_type": "code",
   "execution_count": 54,
   "id": "exterior-metallic",
   "metadata": {},
   "outputs": [
    {
     "data": {
      "image/png": "[encoded data removed]",
      "text/plain": [
       "<Figure size 864x504 with 1 Axes>"
      ]
     },
     "metadata": {
      "needs_background": "light"
     },
     "output_type": "display_data"
    }
   ],
   "source": [
    "cb_precision = [cb_perfos_dict[i][0] for i in labels]\n",
    "cf_precision = [cf_perfos_dict[i][2] for i in labels]\n",
    "\n",
    "x = np.arange(len(labels))\n",
    "width = 0.35\n",
    "\n",
    "fig, ax=plt.subplots(figsize=(12, 7))\n",
    "rects1 = ax.bar(x - width / 2, cb_precision, width, label=\"IBA\")\n",
    "rects2 = ax.bar(x + width / 2, cf_precision, width, label=\"CBA\")\n",
    "\n",
    "ax.set_xlabel(\"k\")\n",
    "ax.set_ylabel(\"Score\")\n",
    "ax.set_xticks(x)\n",
    "ax.set_xticklabels(labels)\n",
    "ax.set_title(\"IBA vs CBA\")\n",
    "ax.legend()\n",
    "\n",
    "plt.show()"
   ]
  },
  {
   "cell_type": "markdown",
   "id": "compressed-husband",
   "metadata": {},
   "source": [
    "---"
   ]
  },
  {
   "cell_type": "markdown",
   "id": "double-politics",
   "metadata": {},
   "source": [
    "## Saving best model files"
   ]
  },
  {
   "cell_type": "code",
   "execution_count": 55,
   "id": "empty-location",
   "metadata": {},
   "outputs": [],
   "source": [
    "# user_vecs\n",
    "\n",
    "np.save(\"user_vecs.npy\", cf_model.user_vecs)"
   ]
  },
  {
   "cell_type": "code",
   "execution_count": 56,
   "id": "proprietary-ethics",
   "metadata": {},
   "outputs": [],
   "source": [
    "# item_vecs\n",
    "\n",
    "np.save(\"item_vecs.npy\", cf_model.item_vecs)"
   ]
  },
  {
   "cell_type": "code",
   "execution_count": 57,
   "id": "hindu-tradition",
   "metadata": {},
   "outputs": [],
   "source": [
    "# clicks_sparse\n",
    "\n",
    "scipy.sparse.save_npz(\"clicks.npz\", cf_model.clicks_sparse)"
   ]
  },
  {
   "cell_type": "code",
   "execution_count": 58,
   "id": "optical-florida",
   "metadata": {},
   "outputs": [
    {
     "data": {
      "text/plain": [
       "<4238x8648 sparse matrix of type '<class 'numpy.float64'>'\n",
       "\twith 80000 stored elements in Compressed Sparse Row format>"
      ]
     },
     "execution_count": 58,
     "metadata": {},
     "output_type": "execute_result"
    }
   ],
   "source": [
    "cf_model.train_set"
   ]
  },
  {
   "cell_type": "code",
   "execution_count": 59,
   "id": "conventional-physiology",
   "metadata": {},
   "outputs": [],
   "source": [
    "# users_arr\n",
    "\n",
    "np.save(\"users_arr.npy\", cf_model.users_arr)"
   ]
  },
  {
   "cell_type": "code",
   "execution_count": 60,
   "id": "lesser-transfer",
   "metadata": {},
   "outputs": [],
   "source": [
    "# item_arr\n",
    "\n",
    "np.save(\"items_arr.npy\", cf_model.items_arr)"
   ]
  },
  {
   "cell_type": "code",
   "execution_count": 61,
   "id": "naughty-decline",
   "metadata": {},
   "outputs": [],
   "source": [
    "# user_to_sparse_user\n",
    "\n",
    "with open(\"user_to_sparse_user.pkl\", 'wb') as handle:\n",
    "\n",
    "    pickle.dump(cf_model.user_to_sparse_user, handle)"
   ]
  },
  {
   "cell_type": "code",
   "execution_count": 62,
   "id": "hydraulic-validation",
   "metadata": {},
   "outputs": [],
   "source": [
    "# sparse_item_to_item\n",
    "\n",
    "with open(\"sparse_item_to_item.pkl\", 'wb') as handle:\n",
    "\n",
    "    pickle.dump(cf_model.sparse_item_to_item, handle)"
   ]
  },
  {
   "cell_type": "markdown",
   "id": "emerging-circle",
   "metadata": {},
   "source": [
    "---"
   ]
  },
  {
   "cell_type": "markdown",
   "id": "excited-native",
   "metadata": {},
   "source": [
    "## Script for azure functions"
   ]
  },
  {
   "cell_type": "code",
   "execution_count": 63,
   "id": "federal-heater",
   "metadata": {},
   "outputs": [],
   "source": [
    "import logging\n",
    "import numpy as np\n",
    "from sklearn.preprocessing import MinMaxScaler\n",
    "import scipy.sparse as sparse\n",
    "import scipy\n",
    "import os\n",
    "import tempfile\n",
    "import json\n",
    "import pickle\n",
    "\n",
    "class CFR():\n",
    "    def __init__(self,\n",
    "                 user_vecs,\n",
    "                 item_vecs,\n",
    "                 clicks_sparse,\n",
    "                 users_arr,\n",
    "                 items_arr,\n",
    "                 user_to_sparse_user,\n",
    "                 sparse_item_to_item):\n",
    "        \n",
    "        self.user_vecs = user_vecs\n",
    "        self.item_vecs = item_vecs\n",
    "        self.clicks_sparse = clicks_sparse\n",
    "        self.users_arr = users_arr\n",
    "        self.items_arr = items_arr\n",
    "        self.user_to_sparse_user = user_to_sparse_user\n",
    "        self.sparse_item_to_item = sparse_item_to_item\n",
    "        \n",
    "    \n",
    "    def rec_items(self, user_id, num_items = 5):\n",
    "        \"\"\"\n",
    "        Calculate and return the recommnded items\n",
    "        Input :\n",
    "            - user_id (int) : user for whom recmmendations are calculated\n",
    "            - num_items (int) : number of recommnded items\n",
    "        Output :\n",
    "            - codes (list of int) : recommended items\n",
    "            - (pd.DataFrame) : recommended items and their attached category (for easier analysis)\n",
    "        \"\"\"\n",
    "        \n",
    "        user_id = self.user_to_sparse_user[user_id]\n",
    "        user_ind = np.where(self.users_arr == user_id)[0][0] \n",
    "        pref_vec = self.clicks_sparse[user_ind,:].toarray() \n",
    "        pref_vec = pref_vec.reshape(-1) + 1 \n",
    "        pref_vec[pref_vec > 1] = 0 \n",
    "        rec_vector = self.user_vecs[user_ind,:].dot(self.item_vecs.T) \n",
    "       \n",
    "        min_max = MinMaxScaler()\n",
    "        rec_vector_scaled = min_max.fit_transform(rec_vector.reshape(-1,1))[:,0] \n",
    "        recommend_vector = pref_vec*rec_vector_scaled \n",
    "        \n",
    "        product_idx = np.argsort(recommend_vector)[::-1][:num_items] \n",
    "       \n",
    "        rec_list = [] \n",
    "        for index in product_idx:\n",
    "            code = self.items_arr[index]\n",
    "            code = self.sparse_item_to_item[code] \n",
    "            rec_list.append(code)\n",
    "                             \n",
    "        return rec_list\n",
    "\n",
    "\n",
    "def init_model():  \n",
    "    user_vecs = np.load(\"./trained-model/user_vecs.npy\")\n",
    "    #print(\"Avec fonction load_matrix : user_vecs.shape =\", user_vecs.shape)\n",
    "\n",
    "    item_vecs = np.load(\"./trained-model/item_vecs.npy\")\n",
    "    #print(\"Avec fonction load_matrix : item_vecs.shape =\", item_vecs.shape)\n",
    "\n",
    "    users_arr = np.load(\"./trained-model/users_arr.npy\")\n",
    "    #print(\"Avec fonction load_matrix : users_arr.shape =\", users_arr.shape)\n",
    "\n",
    "    items_arr = np.load(\"./trained-model/items_arr.npy\")\n",
    "    #print(\"Avec fonction load_matrix : items_arr.shape =\", items_arr.shape)\n",
    "\n",
    "    clicks = scipy.sparse.load_npz(\"./trained-model/clicks.npz\")\n",
    "    #print(\"Avec fonction load_matrix : clicks =\\n\")\n",
    "    #print(clicks)\n",
    "\n",
    "    with open(\"./trained-model/user_to_sparse_user.pkl\", \"rb\") as f:\n",
    "            user_to_sparse_user = pickle.load(f)\n",
    "\n",
    "    with open(\"./trained-model/sparse_item_to_item.pkl\", \"rb\") as f:\n",
    "            sparse_item_to_item = pickle.load(f)\n",
    "\n",
    "    cf_object = CFR(user_vecs,\n",
    "                    item_vecs,\n",
    "                    clicks,\n",
    "                    users_arr,\n",
    "                    items_arr,\n",
    "                    user_to_sparse_user,\n",
    "                    sparse_item_to_item)\n",
    "    \n",
    "    return cf_object\n",
    "    \n",
    "    \n",
    "    \n",
    "def reco_articles(user_id):\n",
    "\n",
    "    model = init_model()\n",
    "    recommendations = model.rec_items(user_id)\n",
    "\n",
    "    print(\"recommendations for user {} :\\n{}\".format(user_id, recommendations))\n",
    "    print(\"type(recommendations :\", type(recommendations))\n",
    "    \n",
    "    return recommendations\n"
   ]
  },
  {
   "cell_type": "code",
   "execution_count": 64,
   "id": "lesser-segment",
   "metadata": {},
   "outputs": [
    {
     "name": "stdout",
     "output_type": "stream",
     "text": [
      "recommendations for user 1 :\n",
      "[96210, 20691, 336220, 288440, 336245]\n",
      "type(recommendations : <class 'list'>\n"
     ]
    },
    {
     "data": {
      "text/plain": [
       "96210"
      ]
     },
     "execution_count": 64,
     "metadata": {},
     "output_type": "execute_result"
    }
   ],
   "source": [
    "reco_articles(1)[0]"
   ]
  },
  {
   "cell_type": "code",
   "execution_count": null,
   "id": "spoken-magnitude",
   "metadata": {},
   "outputs": [],
   "source": []
  }
 ],
 "metadata": {
  "kernelspec": {
   "display_name": "Python 3",
   "language": "python",
   "name": "python3"
  },
  "language_info": {
   "codemirror_mode": {
    "name": "ipython",
    "version": 3
   },
   "file_extension": ".py",
   "mimetype": "text/x-python",
   "name": "python",
   "nbconvert_exporter": "python",
   "pygments_lexer": "ipython3",
   "version": "3.7.9"
  }
 },
 "nbformat": 4,
 "nbformat_minor": 5
}
